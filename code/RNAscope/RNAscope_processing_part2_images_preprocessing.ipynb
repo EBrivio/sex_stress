{
 "cells": [
  {
   "cell_type": "markdown",
   "id": "2f7aca2b-f5e3-4e09-97e9-12974a9ddf3f",
   "metadata": {},
   "source": [
    "This scripts expects the following folder organization:\n",
    "- home_folder\n",
    "    - input_folder: contains: image files. Image files are tiff files with dimensions ch, x, y. Ch ('channel') has Nuclei (DAPI) at 4th position.\n",
    "\n",
    "Outputs are saved in an output_folder inside home_directory"
   ]
  },
  {
   "cell_type": "code",
   "execution_count": 1,
   "id": "bc27f930-0ad8-4ef0-90bc-d6df52dc6ffd",
   "metadata": {},
   "outputs": [],
   "source": [
    "import numpy as np\n",
    "import tifffile\n",
    "import sklearn\n",
    "from sklearn.preprocessing import minmax_scale, binarize\n",
    "import matplotlib.pyplot as plt\n",
    "import os\n",
    "from PIL import Image\n",
    "import imagej\n",
    "import scyjava as sj\n",
    "from scyjava import jimport\n",
    "import xarray\n",
    "import skimage\n",
    "from skimage import io, exposure, feature\n",
    "from skimage.io import imread, imshow\n",
    "from skimage.measure import label, regionprops, regionprops_table\n",
    "from skimage.filters import threshold_otsu\n",
    "from scipy.ndimage import median_filter\n",
    "\n"
   ]
  },
  {
   "cell_type": "code",
   "execution_count": 2,
   "id": "a5a2efa6-4eb8-4fe6-b35d-6943db166867",
   "metadata": {},
   "outputs": [
    {
     "name": "stdout",
     "output_type": "stream",
     "text": [
      "ImageJ2 version: 2.9.0/1.53t\n"
     ]
    }
   ],
   "source": [
    "#initialize pyImageJ with Fiji pulgins\n",
    "sj.config.add_option('-Xmx6g') #use up to 15 extra gigabytes to process all the images in an experiment without running into memory overload error\n",
    "ij = imagej.init('sc.fiji:fiji',add_legacy=True)\n",
    "print(f\"ImageJ2 version: {ij.getVersion()}\") #NOTE: the version used for analysis was ImageJ2 version: 2.9.0/1.53t\n",
    "\n",
    "#import ImagePlus object\n",
    "ImagePlus = sj.jimport(\"ij.ImagePlus\")\n"
   ]
  },
  {
   "cell_type": "code",
   "execution_count": 3,
   "id": "c2ad44a6-c971-4d93-aac5-79d70fea8414",
   "metadata": {},
   "outputs": [],
   "source": [
    "\n",
    "#Indicate home_directory folder - home directory folder contains a sub-folder were images to analyse and PVN rois are contained\n",
    "home_directory = r\"/Users/alessandro_ulivi/ownCloud - alessandro.ulivi@lin-magdeburg.de@owncloud.gwdg.de/RNAscope/Analysis/Analysis_directory/Experiment4\"\n",
    "\n",
    "#Join home_directory folder with input_folder (Step_1_output) folder and output_folder (Step_2_output) - input_folder contains the images to analyse; the output_folder is where results are saved\n",
    "path_input = os.path.join(home_directory, \"Step_1_output\")\n",
    "path_output = os.path.join(home_directory, \"Step_2_output\")\n",
    "\n",
    "#Create the output_folder (Step_2_output) folder, if not present\n",
    "if not os.path.exists(path_output):\n",
    "    os.makedirs(path_output)\n",
    "\n",
    "\n",
    "#Generates a list of the objects in a given directory avoiding hidden files\n",
    "def listdirNHF(path100):\n",
    "    \"\"\"\n",
    "    forms a list of files in an directory, avoiding hidden files. Hidden files are identified by their names starting with a '.'\n",
    "    inputs: directory folder\n",
    "    outputs: list of all non-hidden elements in the input directory\n",
    "    \"\"\"\n",
    "    #Initialize output list\n",
    "    the_F_list = []\n",
    "    \n",
    "    #Collect input folder elements in a list\n",
    "    start_list = os.listdir(path100)\n",
    "    \n",
    "    #Iterate through the elements of the list\n",
    "    for item in start_list:\n",
    "        \n",
    "        #If the name of the element doesn't start with a '.', append it to the output list\n",
    "        if not item.startswith('.'):\n",
    "            the_F_list.append(item)\n",
    "    \n",
    "    #Return the output list\n",
    "    return the_F_list\n",
    "\n"
   ]
  },
  {
   "cell_type": "code",
   "execution_count": 4,
   "id": "2a7b3feb-4761-48ed-857f-4e887c81bb5b",
   "metadata": {},
   "outputs": [],
   "source": [
    "#define hyperparameters for the processing\n",
    "\n",
    "#contrast stretching\n",
    "min_percentil = 0.1 #Parameter used in the analysis: 0.1\n",
    "max_percentil = 90 #Parameter used in the analysis: 90\n",
    "\n",
    "#HyperSphereSmoothing - Edge-preserving smoothing\n",
    "hypersphere_radius = 10 #Parameter used in the analysis is 10\n",
    "filter_type = \"filter.median\" #Parameter used in the analysis is \"filter.median\"\n",
    "\n",
    "# Watershed: mask to labeling.\n",
    "ws_use_eight_connectivity = True #Parameter used in the analysis is True\n",
    "ws_draw_watersheds = True #Parameter used in the analysis is True\n",
    "ws_sigma = 8 #Parameter used in the analysis is 8\n",
    "\n",
    "#mask erosion\n",
    "erosion_dilation_times = 2 #Parameter used in the analysis is 2\n",
    "\n",
    "#small roi removal (what is above is kept, below removed) - the unit is pixels\n",
    "threshold_area_small_rois = 40 #Parameter used in the analysis is 40\n"
   ]
  },
  {
   "cell_type": "code",
   "execution_count": 5,
   "id": "382938ab-0239-4dc9-86e9-5dd995b41d02",
   "metadata": {},
   "outputs": [],
   "source": [
    "#list files in input directory\n",
    "list_files_input_dir = listdirNHF(path_input)\n",
    "\n",
    "#Select .tif files in input directory\n",
    "images_list = []\n",
    "for f in list_files_input_dir:\n",
    "    if str(f)[-4:]==\".tif\":\n",
    "        images_list.append(f)\n"
   ]
  },
  {
   "cell_type": "code",
   "execution_count": 6,
   "id": "e9931c72-b5cb-4c51-81f4-228f3a7554f1",
   "metadata": {},
   "outputs": [
    {
     "name": "stdout",
     "output_type": "stream",
     "text": [
      "-------------------------------\n",
      "working on image:  F_16_a_fron_MAX_cut.tif\n"
     ]
    },
    {
     "name": "stderr",
     "output_type": "stream",
     "text": [
      "Operating in headless mode - the original ImageJ will have limited functionality.\n",
      "Operating in headless mode - the IJ class will not be fully functional.\n"
     ]
    },
    {
     "name": "stdout",
     "output_type": "stream",
     "text": [
      "finished image:  F_16_a_fron_MAX_cut.tif\n",
      "-------------------------------\n",
      "working on image:  F_16_b_fron_MAX_cut.tif\n",
      "finished image:  F_16_b_fron_MAX_cut.tif\n",
      "finished\n"
     ]
    }
   ],
   "source": [
    "#define my_mode function. It will be used to rescale the intensity of nuclei images\n",
    "def my_mode(arr_2D):\n",
    "    \"\"\"\n",
    "    given a 2D numpy array, returns a single mode value into a list\n",
    "    \"\"\"\n",
    "    vals_2Darr, counts_2Darr = np.unique(arr_2D, return_counts=True)\n",
    "    mode_idx_2Darr = np.argwhere(counts_2Darr == np.max(counts_2Darr))\n",
    "    mode_val_2Darr = vals_2Darr[mode_idx_2Darr].flatten().tolist()\n",
    "    return mode_val_2Darr\n",
    "\n",
    "\n",
    "#iterate the processing (among the images in the input folder)\n",
    "for img in images_list:\n",
    "    print(\"-------------------------------\")\n",
    "    print(\"working on image: \", str(img))\n",
    "    \n",
    "    #open image as numpy\n",
    "    np_img = tifffile.imread(os.path.join(path_input, str(img)))\n",
    "    \n",
    "    # select nuclei channel\n",
    "    np_dapi = np_img[3,:,:]\n",
    "    \n",
    "    #histograms rescaling\n",
    "    min_np_dapi, max_np_dapi = np.percentile(np_dapi, (min_percentil, max_percentil)) #Calculate the max value of the intensity rescaling process\n",
    "    mode_val_np_dapi = my_mode(np_dapi)[0] #Calculate the mode of value intensity histogram distribution\n",
    "    equalized_np_dapi = exposure.rescale_intensity(np_dapi, in_range=(mode_val_np_dapi, max_np_dapi)) #Rescale intensity values on the mode-max range\n",
    "    java_equalized_dapi = ij.py.to_java(equalized_np_dapi) #tranform rescaled image to java-compatible file\n",
    "    \n",
    "    # preprocess with edge-preserving smoothing\n",
    "    HyperSphereShape = sj.jimport(\"net.imglib2.algorithm.neighborhood.HyperSphereShape\")\n",
    "    smoothed = ij.op().run(\"create.img\", java_equalized_dapi)\n",
    "    ij.op().run(filter_type, ij.py.jargs(smoothed, np_dapi, HyperSphereShape(hypersphere_radius)))\n",
    "    # ij.py.show(smoothed)\n",
    "    \n",
    "    # otsu threshold to binary mask\n",
    "    mask = ij.op().run(\"threshold.otsu\", smoothed)\n",
    "    # ij.py.show(mask)\n",
    "    \n",
    "    # fill holes of binary mask.\n",
    "    fh_mask = ij.op().run(\"morphology.fillHoles\", mask)\n",
    "    # ij.py.show(fh_mask)\n",
    "    \n",
    "    # Watershed: mask to labeling\n",
    "    args = ij.py.jargs(None, mask, ws_use_eight_connectivity, ws_draw_watersheds, ws_sigma, fh_mask)\n",
    "    labeling = ij.op().run(\"image.watershed\", args)\n",
    "    # ij.py.show(labeling.getIndexImg(), cmap='tab10')\n",
    "    \n",
    "    #add second Watershed process\n",
    "    mask_Plus = ij.py.to_imageplus(labeling)\n",
    "    ij.IJ.run(mask_Plus, \"8-bit\", \"\")\n",
    "    ij.IJ.run(mask_Plus, \"Watershed\", \"\")\n",
    "    # ij.py.show(mask_Plus)\n",
    "    \n",
    "    #erode the mask before transforming to label-image\n",
    "    for i in range(erosion_dilation_times):\n",
    "        erodemask = ImagePlus(\"cells-mask\", mask_Plus.createThresholdMask())\n",
    "        ij.IJ.run(mask_Plus, \"Erode\", \"\")\n",
    "\n",
    "    #transform to label image\n",
    "    ij.IJ.run(erodemask, \"Convert to Mask\", \"\")\n",
    "    xr_erodemask_mask = ij.py.from_java(erodemask)\n",
    "    np_erodemask = np.asarray(xr_erodemask_mask)\n",
    "    labeled_mask = label(np_erodemask)\n",
    "    \n",
    "    #filter small rois - first get image properties, second make a copy of the label image, third loop through the cell, and set the small ones to 0\n",
    "    props = regionprops(labeled_mask) #get properties of label image objects\n",
    "    labeled_mask_copy = labeled_mask #make a copy of label image\n",
    "    for r in props: #Itearate through measured properties\n",
    "        a = r['area'] #find area of the object\n",
    "        if a<threshold_area_small_rois: #set values to 0 if area is smaller than threshold\n",
    "            coordinates_a = r['coords']\n",
    "            for c in coordinates_a:\n",
    "                labeled_mask_copy[c[0],c[-1]]=0\n",
    "    \n",
    "    \n",
    "    #binarize mask\n",
    "    binary_np = binarize(labeled_mask_copy, threshold=0.0, copy=True)\n",
    "    \n",
    "    #convert to 0 and 255 and save as int16\n",
    "    int_img_0_255 = np.where(binary_np>0, 255,0).astype(np.int16)\n",
    "    \n",
    "    #save result\n",
    "    tifffile.imsave(os.path.join(path_output, str(img)),int_img_0_255)\n",
    "    print(\"finished image: \", str(img))\n",
    "    \n",
    "    \n",
    "print(\"finished\")\n"
   ]
  }
 ],
 "metadata": {
  "kernelspec": {
   "display_name": "Python 3",
   "language": "python",
   "name": "python3"
  },
  "language_info": {
   "codemirror_mode": {
    "name": "ipython",
    "version": 3
   },
   "file_extension": ".py",
   "mimetype": "text/x-python",
   "name": "python",
   "nbconvert_exporter": "python",
   "pygments_lexer": "ipython3",
   "version": "3.9.4"
  }
 },
 "nbformat": 4,
 "nbformat_minor": 5
}
